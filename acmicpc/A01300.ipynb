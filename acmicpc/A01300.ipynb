{
 "cells": [
  {
   "cell_type": "markdown",
   "metadata": {},
   "source": [
    "## A01300: [K번째 수](https://www.acmicpc.net/problem/1300)\n",
    "### problem spec:\n",
    "* `N`: a positive integer `<= 1e5`\n",
    "* `K`: a positive integer `<= min(N**2, 1e9)`\n",
    "* `A`, `B`: (everything is 1-indexed)\n",
    "```python:\n",
    "A = [[i * j for j in range(1, N + 1)] for i in range(1, N + 1)]\n",
    "B = [None] + sorted(sum(A, []))  # 1-indexed list\n",
    "```\n",
    "* **What is the value of `B[K]`**?"
   ]
  },
  {
   "cell_type": "markdown",
   "metadata": {},
   "source": [
    "### examples:"
   ]
  },
  {
   "cell_type": "code",
   "execution_count": null,
   "metadata": {},
   "outputs": [],
   "source": [
    "N, K = 3, 7\n",
    "A = [[i * j for j in range(1, N + 1)] for i in range(1, N + 1)]\n",
    "B = [None] + sorted(sum(A, []))\n",
    "print(f'A: {A}\\nB: {B}\\nB[K]: {B[K]}')"
   ]
  },
  {
   "cell_type": "code",
   "execution_count": null,
   "metadata": {},
   "outputs": [],
   "source": [
    "N, K = 4, 15\n",
    "A = [[i * j for j in range(1, N + 1)] for i in range(1, N + 1)]\n",
    "B = [None] + sorted(sum(A, []))\n",
    "print(f'A: {A}\\nB: {B}\\nB[K]: {B[K]}')"
   ]
  },
  {
   "cell_type": "code",
   "execution_count": null,
   "metadata": {},
   "outputs": [],
   "source": [
    "N, K = 5, 10\n",
    "A = [[i * j for j in range(1, N + 1)] for i in range(1, N + 1)]\n",
    "B = [0] + sorted(sum(A, []))\n",
    "print(f'A: {A}\\nB: {B}\\nB[K]: {B[K]}')"
   ]
  },
  {
   "cell_type": "markdown",
   "metadata": {},
   "source": [
    "### approach:\n",
    "1. `B[K] <= unknown_val` could be rewritten as `len([n for n in B[1:] if n <= unknown_val]) >= K`"
   ]
  },
  {
   "cell_type": "code",
   "execution_count": null,
   "metadata": {},
   "outputs": [],
   "source": [
    "N, K = 4, 15\n",
    "A = [[i * j for j in range(1, N + 1)] for i in range(1, N + 1)]\n",
    "B = [0] + sorted(sum(A, []))\n",
    "\n",
    "first = True\n",
    "for unknown_val in range(1, K + 1):\n",
    "    print(f'| {unknown_val:2} |'\n",
    "          f' B[K] <= unknown_val -> {str(B[K] <= unknown_val):5} |'\n",
    "          f' len(--snipped--) >= K -> {str(len([n for n in B[1:] if n <= unknown_val]) >= K):5} |'\n",
    "          + (f'  <- expected answer for B[K] when N, K = {N}, {K}' if first and B[K] <= unknown_val else ''))\n",
    "    if first and B[K] <= unknown_val: first = False"
   ]
  },
  {
   "cell_type": "markdown",
   "metadata": {},
   "source": [
    "2. `len([n for n in B[1:] if n <= unknown_val])` could be calculated like this:"
   ]
  },
  {
   "cell_type": "code",
   "execution_count": null,
   "metadata": {},
   "outputs": [],
   "source": [
    "N, K = 4, 15\n",
    "A = [[i * j for j in range(1, N + 1)] for i in range(1, N + 1)]\n",
    "B = [0] + sorted(sum(A, []))\n",
    "\n",
    "def slow():\n",
    "    count = 0\n",
    "    for i in range(1, N + 1):\n",
    "        for j in range(1, N + 1):\n",
    "            if i * j <= unknown_val:\n",
    "                count += 1\n",
    "    return count\n",
    "\n",
    "def fast():\n",
    "    count = 0\n",
    "    for i in range(1, N + 1):\n",
    "        count += min(N, unknown_val // i)\n",
    "    return count\n",
    "\n",
    "first = True\n",
    "for unknown_val in range(1, K + 1):\n",
    "    print(f'| {unknown_val:2} | '\n",
    "          f' len(--snipped--) -> {len([n for n in B[1:] if n <= unknown_val]):2} |'\n",
    "          f' slow() -> {slow():2} |'\n",
    "          f' fast() -> {fast():2} |'\n",
    "          f' fast() >= K -> {str(fast() >= K):5} |'\n",
    "          + (f'  <- also this is the expected answer for B[K] when N, K = {N}, {K}' if first and fast() >= K else ''))\n",
    "    if first and fast() >= K: first = False"
   ]
  },
  {
   "cell_type": "markdown",
   "metadata": {},
   "source": [
    "3. use binary search to find the lowest `unknown_val` that satisfies the condition, which was;\n",
    "* initially: `B[K] <= unknown_val`\n",
    "* and later became: `len([n for n in B[1:] if n <= unknown_val]) >= K`\n",
    "* and finally became: `sum(min(n, unknown_val // i) for i in range(1, n + 1)) >= K`:"
   ]
  },
  {
   "cell_type": "code",
   "execution_count": null,
   "metadata": {},
   "outputs": [],
   "source": [
    "def solution(n: int, k: int) -> None:\n",
    "    low, high = 1, k\n",
    "    while low <= high:\n",
    "        mid = (low + high) // 2\n",
    "        count = sum(min(n, mid // i) for i in range(1, n + 1))\n",
    "        if count < k:\n",
    "            low = mid + 1\n",
    "        else:\n",
    "            high = mid - 1\n",
    "    print(low)\n",
    "\n",
    "solution(4, 15)"
   ]
  }
 ],
 "metadata": {
  "kernelspec": {
   "display_name": "Python 3.10.4 64-bit",
   "language": "python",
   "name": "python3"
  },
  "language_info": {
   "codemirror_mode": {
    "name": "ipython",
    "version": 3
   },
   "file_extension": ".py",
   "mimetype": "text/x-python",
   "name": "python",
   "nbconvert_exporter": "python",
   "pygments_lexer": "ipython3",
   "version": "3.10.4"
  },
  "orig_nbformat": 4,
  "vscode": {
   "interpreter": {
    "hash": "aee8b7b246df8f9039afb4144a1f6fd8d2ca17a180786b69acc140d282b71a49"
   }
  }
 },
 "nbformat": 4,
 "nbformat_minor": 2
}
